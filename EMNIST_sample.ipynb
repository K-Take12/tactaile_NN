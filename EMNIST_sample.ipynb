{
  "nbformat": 4,
  "nbformat_minor": 0,
  "metadata": {
    "colab": {
      "provenance": []
    },
    "kernelspec": {
      "name": "python3",
      "display_name": "Python 3"
    },
    "language_info": {
      "name": "python"
    }
  },
  "cells": [
    {
      "cell_type": "code",
      "execution_count": 1,
      "metadata": {
        "colab": {
          "base_uri": "https://localhost:8080/"
        },
        "id": "9o_Rp4xf8z95",
        "outputId": "1eec21ec-e7b3-4cd6-86e0-909a17c33d1e"
      },
      "outputs": [
        {
          "output_type": "stream",
          "name": "stdout",
          "text": [
            "Drive already mounted at /content/drive; to attempt to forcibly remount, call drive.mount(\"/content/drive\", force_remount=True).\n"
          ]
        }
      ],
      "source": [
        "## colabを使用するときはマウントする。\n",
        "from google.colab import drive\n",
        "drive.mount('/content/drive')\n"
      ]
    },
    {
      "cell_type": "code",
      "source": [
        "import zipfile\n",
        "\n",
        "# 作業用フォルダまでのパス\n",
        "# 基本的に以下の場所で作業する(自分の環境次第)\n",
        "base_path = '/content/drive/MyDrive/EMNIST/'\n",
        "\n",
        "# zipファイルの解凍（zipファイル名は適宜変更）\n",
        "zip_file_path = base_path + 'gzip.zip'\n",
        "# ファイルの解凍先\n",
        "extract_to_path = base_path\n",
        "\n",
        "#Zipファイルを解凍\n",
        "with zipfile.ZipFile(zip_file_path, 'r') as zip_ref:\n",
        "    zip_ref.extractall(extract_to_path)"
      ],
      "metadata": {
        "id": "4TL9DufAMO89"
      },
      "execution_count": 2,
      "outputs": []
    },
    {
      "cell_type": "code",
      "source": [
        "## 解凍できているかの確認\n",
        "import os\n",
        "\n",
        "# 解凍先のディレクトリ内のファイルやディレクトリの一覧を取得\n",
        "extract_to_path_ = extract_to_path + 'gzip/' # フォルダ名は自身の解凍先を指定\n",
        "extracted_files = os.listdir(extract_to_path_)\n",
        "\n",
        "# 一覧を表示\n",
        "print(\"解凍後のファイルやディレクトリ:\")\n",
        "for item in extracted_files:\n",
        "    print(item)\n"
      ],
      "metadata": {
        "colab": {
          "base_uri": "https://localhost:8080/"
        },
        "id": "av0R_yMPNxhu",
        "outputId": "13d506e5-4558-4fcb-b274-f2cb785d5e14"
      },
      "execution_count": 3,
      "outputs": [
        {
          "output_type": "stream",
          "name": "stdout",
          "text": [
            "解凍後のファイルやディレクトリ:\n",
            "emnist-balanced-mapping.txt\n",
            "emnist-balanced-test-labels-idx1-ubyte.gz\n",
            "emnist-balanced-train-labels-idx1-ubyte.gz\n",
            "emnist-byclass-test-labels-idx1-ubyte.gz\n",
            "emnist-byclass-mapping.txt\n",
            "emnist-balanced-test-images-idx3-ubyte.gz\n",
            "emnist-balanced-train-images-idx3-ubyte.gz\n",
            "emnist-byclass-test-images-idx3-ubyte.gz\n",
            "emnist-byclass-train-images-idx3-ubyte.gz\n",
            "emnist-bymerge-mapping.txt\n",
            "emnist-bymerge-test-labels-idx1-ubyte.gz\n",
            "emnist-byclass-train-labels-idx1-ubyte.gz\n",
            "emnist-bymerge-test-images-idx3-ubyte.gz\n",
            "emnist-bymerge-train-images-idx3-ubyte.gz\n",
            "emnist-bymerge-train-labels-idx1-ubyte.gz\n",
            "emnist-letters-mapping.txt\n",
            "emnist-digits-mapping.txt\n",
            "emnist-digits-test-labels-idx1-ubyte.gz\n",
            "emnist-digits-train-labels-idx1-ubyte.gz\n",
            "emnist-letters-test-images-idx3-ubyte.gz\n",
            "emnist-digits-test-images-idx3-ubyte.gz\n",
            "emnist-letters-test-labels-idx1-ubyte.gz\n",
            "emnist-letters-train-images-idx3-ubyte.gz\n",
            "emnist-digits-train-images-idx3-ubyte.gz\n",
            "emnist-letters-train-labels-idx1-ubyte.gz\n",
            "emnist-mnist-mapping.txt\n",
            "emnist-mnist-test-labels-idx1-ubyte.gz\n",
            "emnist-mnist-test-images-idx3-ubyte.gz\n",
            "emnist-mnist-train-images-idx3-ubyte.gz\n",
            "emnist-mnist-train-labels-idx1-ubyte.gz\n"
          ]
        }
      ]
    },
    {
      "cell_type": "code",
      "source": [
        "import gzip\n",
        "import numpy as np\n",
        "## データの読み取り関数\n",
        "#画像用\n",
        "def read_emnist_images(file_path):\n",
        "    with gzip.open(file_path, 'rb') as f:\n",
        "        # マジックナンバーを読み飛ばす\n",
        "        f.read(4)\n",
        "        # アイテム数を読み取る\n",
        "        num_items = int.from_bytes(f.read(4), 'big')\n",
        "        # 画像の高さを読み取る\n",
        "        rows = int.from_bytes(f.read(4), 'big')\n",
        "        # 画像の幅を読み取る\n",
        "        cols = int.from_bytes(f.read(4), 'big')\n",
        "        # 画像データを読み取る\n",
        "        data = f.read()\n",
        "        # データをnumpy配列に変換し、形状を整える\n",
        "        images = np.frombuffer(data, dtype=np.uint8).reshape(num_items, rows, cols)\n",
        "    return images\n",
        "\n",
        "#ラベル用\n",
        "def read_emnist_labels(file_path):\n",
        "    with gzip.open(file_path, 'rb') as f:\n",
        "        # マジックナンバーを読み飛ばす\n",
        "        f.read(4)\n",
        "        # アイテム数を読み取る\n",
        "        num_items = int.from_bytes(f.read(4), 'big')\n",
        "        # ラベルデータを読み取る\n",
        "        data = f.read()\n",
        "        # データをnumpy配列に変換\n",
        "        labels = np.frombuffer(data, dtype=np.uint8)\n",
        "    return labels\n",
        "\n"
      ],
      "metadata": {
        "id": "OCy2uqL0Ny28"
      },
      "execution_count": 4,
      "outputs": []
    },
    {
      "cell_type": "code",
      "source": [
        "# 実際にファイルから取り出す\n",
        "\n",
        "### byclass\n",
        "# 画像データ(トレーニング)を読み取る\n",
        "byclass_train_images = read_emnist_images(extract_to_path_ + 'emnist-byclass-train-images-idx3-ubyte.gz')\n",
        "# ラベルデータ(トレーニング)を読み取る\n",
        "byclass_train_labels = read_emnist_labels(extract_to_path_ + 'emnist-byclass-train-labels-idx1-ubyte.gz')\n",
        "# 画像データ(テスト)を読み取る\n",
        "byclass_test_images = read_emnist_images(extract_to_path_ + 'emnist-byclass-test-images-idx3-ubyte.gz')\n",
        "# ラベルデータ(テスト)を読み取る\n",
        "byclass_test_labels = read_emnist_labels(extract_to_path_ + 'emnist-byclass-test-labels-idx1-ubyte.gz')\n",
        "\n",
        "\n",
        "### bymerge\n",
        "# 画像データ(トレーニング)を読み取る\n",
        "bymerge_train_images = read_emnist_images(extract_to_path_ + 'emnist-bymerge-train-images-idx3-ubyte.gz')\n",
        "# ラベルデータ(トレーニング)を読み取る\n",
        "bymerge_train_labels = read_emnist_labels(extract_to_path_ + 'emnist-bymerge-train-labels-idx1-ubyte.gz')\n",
        "# 画像データ(テスト)を読み取る\n",
        "bymerge_test_images = read_emnist_images(extract_to_path_ + 'emnist-bymerge-test-images-idx3-ubyte.gz')\n",
        "# ラベルデータ(テスト)を読み取る\n",
        "bymerge_test_labels = read_emnist_labels(extract_to_path_ + 'emnist-bymerge-test-labels-idx1-ubyte.gz')\n",
        "\n",
        "\n",
        "### balanced\n",
        "# 画像データ(トレーニング)を読み取る\n",
        "balanced_train_images = read_emnist_images(extract_to_path_ + 'emnist-balanced-train-images-idx3-ubyte.gz')\n",
        "# ラベルデータ(トレーニング)を読み取る\n",
        "balanced_train_labels = read_emnist_labels(extract_to_path_ + 'emnist-balanced-train-labels-idx1-ubyte.gz')\n",
        "# 画像データ(テスト)を読み取る\n",
        "balanced_test_images = read_emnist_images(extract_to_path_ + 'emnist-balanced-test-images-idx3-ubyte.gz')\n",
        "# ラベルデータ(テスト)を読み取る\n",
        "balanced_test_labels = read_emnist_labels(extract_to_path_ + 'emnist-balanced-test-labels-idx1-ubyte.gz')\n",
        "\n",
        "\n",
        "### letters\n",
        "# 画像データ(トレーニング)を読み取る\n",
        "letters_train_images = read_emnist_images(extract_to_path_ + 'emnist-letters-train-images-idx3-ubyte.gz')\n",
        "# ラベルデータ(トレーニング)を読み取る\n",
        "letters_train_labels = read_emnist_labels(extract_to_path_ + 'emnist-letters-train-labels-idx1-ubyte.gz')\n",
        "# 画像データ(テスト)を読み取る\n",
        "letters_test_images = read_emnist_images(extract_to_path_ + 'emnist-letters-test-images-idx3-ubyte.gz')\n",
        "# ラベルデータ(テスト)を読み取る\n",
        "letters_test_labels = read_emnist_labels(extract_to_path_ + 'emnist-letters-test-labels-idx1-ubyte.gz')\n",
        "\n",
        "\n",
        "### digits\n",
        "# 画像データ(トレーニング)を読み取る\n",
        "digits_train_images = read_emnist_images(extract_to_path_ + 'emnist-digits-train-images-idx3-ubyte.gz')\n",
        "# ラベルデータ(トレーニング)を読み取る\n",
        "digits_train_labels = read_emnist_labels(extract_to_path_ + 'emnist-digits-train-labels-idx1-ubyte.gz')\n",
        "# 画像データ(テスト)を読み取る\n",
        "digits_test_images = read_emnist_images(extract_to_path_ + 'emnist-digits-test-images-idx3-ubyte.gz')\n",
        "# ラベルデータ(テスト)を読み取る\n",
        "digits_test_labels = read_emnist_labels(extract_to_path_ + 'emnist-digits-test-labels-idx1-ubyte.gz')\n",
        "\n",
        "\n",
        "### mnist\n",
        "# 画像データ(トレーニング)を読み取る\n",
        "mnist_train_images = read_emnist_images(extract_to_path_ + 'emnist-mnist-train-images-idx3-ubyte.gz')\n",
        "# ラベルデータ(トレーニング)を読み取る\n",
        "mnist_train_labels = read_emnist_labels(extract_to_path_ + 'emnist-mnist-train-labels-idx1-ubyte.gz')\n",
        "# 画像データ(テスト)を読み取る\n",
        "mnist_test_images = read_emnist_images(extract_to_path_ + 'emnist-mnist-test-images-idx3-ubyte.gz')\n",
        "# ラベルデータ(テスト)を読み取る\n",
        "mnist_test_labels = read_emnist_labels(extract_to_path_ + 'emnist-mnist-test-labels-idx1-ubyte.gz')"
      ],
      "metadata": {
        "id": "XY-KFFzM1nuk"
      },
      "execution_count": 5,
      "outputs": []
    },
    {
      "cell_type": "code",
      "source": [
        "import torch\n",
        "from torch.utils.data import Dataset, DataLoader\n",
        "from torchvision import transforms\n",
        "\n",
        "##データセットの作成\n",
        "# データセットの仕様を変更したい場合はここを変更\n",
        "class EMNIST_Dataset(Dataset):\n",
        "    def __init__(self, images, labels, transform=None):\n",
        "        self.images = images\n",
        "        self.labels = labels\n",
        "        self.transform = transform\n",
        "\n",
        "    def __len__(self):\n",
        "        return len(self.images)\n",
        "\n",
        "    def __getitem__(self, idx):\n",
        "        image = self.images[idx]\n",
        "        label = self.labels[idx]\n",
        "        if self.transform:\n",
        "            image = self.transform(image)\n",
        "        return image, label"
      ],
      "metadata": {
        "id": "Y4gdqy0J1wPl"
      },
      "execution_count": 8,
      "outputs": []
    },
    {
      "cell_type": "code",
      "source": [
        "## データセットを作成\n",
        "\n",
        "# byclass\n",
        "emnist_byclass_train_dataset = EMNIST_Dataset(byclass_train_images, byclass_train_labels, transform=transforms.ToTensor())\n",
        "emnist_byclass_test_dataset = EMNIST_Dataset(byclass_test_images, byclass_test_labels, transform=transforms.ToTensor())\n",
        "\n",
        "# bymerge\n",
        "emnist_bymerge_train_dataset = EMNIST_Dataset(bymerge_train_images, bymerge_train_labels, transform=transforms.ToTensor())\n",
        "emnist_bymerge_test_dataset = EMNIST_Dataset(bymerge_test_images, bymerge_test_labels, transform=transforms.ToTensor())\n",
        "\n",
        "# balanced\n",
        "emnist_balanced_train_dataset = EMNIST_Dataset(balanced_train_images, balanced_train_labels, transform=transforms.ToTensor())\n",
        "emnist_balanced_test_dataset = EMNIST_Dataset(balanced_test_images, balanced_test_labels, transform=transforms.ToTensor())\n",
        "\n",
        "# letters\n",
        "emnist_letters_train_dataset = EMNIST_Dataset(letters_train_images, letters_train_labels, transform=transforms.ToTensor())\n",
        "emnist_letters_test_dataset = EMNIST_Dataset(letters_test_images, letters_test_labels, transform=transforms.ToTensor())\n",
        "\n",
        "# digits\n",
        "emnist_digits_train_dataset = EMNIST_Dataset(digits_train_images, digits_train_labels, transform=transforms.ToTensor())\n",
        "emnist_digits_test_dataset = EMNIST_Dataset(digits_test_images, digits_test_labels, transform=transforms.ToTensor())\n",
        "\n",
        "# mnist\n",
        "emnist_mnist_train_dataset = EMNIST_Dataset(mnist_train_images, mnist_train_labels, transform=transforms.ToTensor())\n",
        "emnist_mnist_test_dataset = EMNIST_Dataset(mnist_test_images, mnist_test_labels, transform=transforms.ToTensor())\n"
      ],
      "metadata": {
        "id": "1MtpYkFlapTX"
      },
      "execution_count": 9,
      "outputs": []
    },
    {
      "cell_type": "code",
      "source": [
        "## データセットの確認\n",
        "\n",
        "print(\"----------byclass----------\")\n",
        "print(\"train：\", len(emnist_byclass_train_dataset))\n",
        "print(\"test：\", len(emnist_byclass_test_dataset))\n",
        "print(\"----------bymerge----------\")\n",
        "print(\"train：\", len(emnist_bymerge_train_dataset))\n",
        "print(\"test：\", len(emnist_bymerge_test_dataset))\n",
        "print(\"----------balanced----------\")\n",
        "print(\"train：\", len(emnist_balanced_train_dataset))\n",
        "print(\"test：\", len(emnist_balanced_test_dataset))\n",
        "print(\"----------letters----------\")\n",
        "print(\"train：\", len(emnist_letters_train_dataset))\n",
        "print(\"test：\", len(emnist_letters_test_dataset))\n",
        "print(\"----------digits----------\")\n",
        "print(\"train：\", len(emnist_digits_train_dataset))\n",
        "print(\"test：\", len(emnist_digits_test_dataset))\n",
        "print(\"----------mnist----------\")\n",
        "print(\"train：\", len(emnist_mnist_train_dataset))\n",
        "print(\"test：\", len(emnist_mnist_test_dataset))"
      ],
      "metadata": {
        "colab": {
          "base_uri": "https://localhost:8080/"
        },
        "id": "s_2WkG-muhE7",
        "outputId": "a71074f9-8ea4-4fd3-8b8a-9599f26c04b1"
      },
      "execution_count": 12,
      "outputs": [
        {
          "output_type": "stream",
          "name": "stdout",
          "text": [
            "----------byclass----------\n",
            "train： 697932\n",
            "test： 116323\n",
            "----------bymerge----------\n",
            "train： 697932\n",
            "test： 116323\n",
            "----------balanced----------\n",
            "train： 112800\n",
            "test： 18800\n",
            "----------letters----------\n",
            "train： 124800\n",
            "test： 20800\n",
            "----------digits----------\n",
            "train： 240000\n",
            "test： 40000\n",
            "----------mnist----------\n",
            "train： 60000\n",
            "test： 10000\n"
          ]
        }
      ]
    },
    {
      "cell_type": "code",
      "source": [
        "# データセットからサンプルを取得してみる\n",
        "sample_image, sample_label = emnist_byclass_train_dataset[0]\n",
        "print(\"サンプル画像の形状:\", sample_image.shape)\n",
        "print(\"サンプルラベル:\", sample_label)\n",
        "\n",
        "\n",
        "import matplotlib.pyplot as plt\n",
        "\n",
        "# サンプル画像を表示\n",
        "plt.imshow(sample_image.squeeze(), cmap='gray')\n",
        "plt.title(f'Label: {sample_label}')\n",
        "plt.axis('off')\n",
        "plt.show()"
      ],
      "metadata": {
        "colab": {
          "base_uri": "https://localhost:8080/",
          "height": 521
        },
        "id": "pHC0Q0I5qsUx",
        "outputId": "05fb40c9-2925-477a-aa86-f2807b3ae37d"
      },
      "execution_count": 13,
      "outputs": [
        {
          "output_type": "stream",
          "name": "stdout",
          "text": [
            "サンプル画像の形状: torch.Size([1, 28, 28])\n",
            "サンプルラベル: 35\n"
          ]
        },
        {
          "output_type": "stream",
          "name": "stderr",
          "text": [
            "/usr/local/lib/python3.10/dist-packages/torchvision/transforms/functional.py:153: UserWarning: The given NumPy array is not writable, and PyTorch does not support non-writable tensors. This means writing to this tensor will result in undefined behavior. You may want to copy the array to protect its data or make it writable before converting it to a tensor. This type of warning will be suppressed for the rest of this program. (Triggered internally at ../torch/csrc/utils/tensor_numpy.cpp:206.)\n",
            "  img = torch.from_numpy(pic.transpose((2, 0, 1))).contiguous()\n"
          ]
        },
        {
          "output_type": "display_data",
          "data": {
            "text/plain": [
              "<Figure size 640x480 with 1 Axes>"
            ],
            "image/png": "[encoded data removed]"
          },
          "metadata": {}
        }
      ]
    },
    {
      "cell_type": "code",
      "source": [
        "# データローダーの作成\n",
        "\n",
        "\n",
        "# byclass\n",
        "emnist_byclass_train_dataloader = DataLoader(emnist_byclass_train_dataset, batch_size=32, shuffle=True)\n",
        "emnist_byclass_test_dataloader = DataLoader(emnist_byclass_test_dataset, batch_size=32, shuffle=False)\n",
        "\n",
        "# bymerge\n",
        "emnist_bymerge_train_dataloader = DataLoader(emnist_bymerge_train_dataset, batch_size=32, shuffle=True)\n",
        "emnist_bymerge_test_dataloader = DataLoader(emnist_bymerge_test_dataset, batch_size=32, shuffle=False)\n",
        "\n",
        "# balanced\n",
        "emnist_balanced_train_dataloader = DataLoader(emnist_balanced_train_dataset, batch_size=32, shuffle=True)\n",
        "emnist_balanced_test_dataloader = DataLoader(emnist_balanced_test_dataset, batch_size=32, shuffle=False)\n",
        "\n",
        "# letters\n",
        "emnist_letters_train_dataloader = DataLoader(emnist_letters_train_dataset, batch_size=32, shuffle=True)\n",
        "emnist_letters_test_dataloader = DataLoader(emnist_letters_test_dataset, batch_size=32, shuffle=False)\n",
        "\n",
        "# digits\n",
        "emnist_digits_train_dataloader = DataLoader(emnist_digits_train_dataset, batch_size=32, shuffle=True)\n",
        "emnist_digits_test_dataloader = DataLoader(emnist_digits_test_dataset, batch_size=32, shuffle=False)\n",
        "\n",
        "# mnist\n",
        "emnist_mnist_train_dataloader = DataLoader(emnist_mnist_train_dataset, batch_size=32, shuffle=True)\n",
        "emnist_mnist_test_dataloader = DataLoader(emnist_mnist_test_dataset, batch_size=32, shuffle=False)\n"
      ],
      "metadata": {
        "id": "XZVftNCMyBKT"
      },
      "execution_count": 14,
      "outputs": []
    }
  ]
}